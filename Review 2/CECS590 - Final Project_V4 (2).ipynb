{
 "cells": [
  {
   "cell_type": "markdown",
   "metadata": {},
   "source": [
    "# Libraries"
   ]
  },
  {
   "cell_type": "code",
   "execution_count": 1,
   "metadata": {},
   "outputs": [
    {
     "name": "stderr",
     "output_type": "stream",
     "text": [
      "Using TensorFlow backend.\n"
     ]
    }
   ],
   "source": [
    "import pandas as pd\n",
    "import gzip\n",
    "import simplejson as json\n",
    "from sklearn.utils import resample\n",
    "import gc\n",
    "import os\n",
    "import re\n",
    "import langdetect\n",
    "from nltk.stem import WordNetLemmatizer\n",
    "from nltk.corpus import stopwords\n",
    "from tensorflow.keras.preprocessing.text import Tokenizer\n",
    "from tensorflow.keras.preprocessing.sequence import pad_sequences\n",
    "from tensorflow.keras.layers import Dense , Input , LSTM , Embedding, Dropout , Activation, GRU, Flatten\n",
    "from tensorflow.keras.layers import Bidirectional, GlobalMaxPool1D\n",
    "from tensorflow.keras.models import Model, Sequential\n",
    "from tensorflow.keras.layers import Convolution1D, Dropout\n",
    "from tensorflow.keras import initializers, regularizers, constraints, optimizers, layers\n",
    "from keras.constraints import maxnorm\n",
    "from tensorflow.keras.wrappers.scikit_learn import KerasClassifier\n",
    "from sklearn.model_selection import train_test_split, GridSearchCV\n",
    "from wordcloud import WordCloud, STOPWORDS \n",
    "import matplotlib.pyplot as plt\n",
    "from matplotlib.pyplot import pie, axis, show\n",
    "import numpy as np\n",
    "import string\n",
    "import collections\n",
    "from sklearn.metrics import classification_report\n",
    "from sklearn.metrics import f1_score, confusion_matrix\n",
    "\n",
    "os.chdir(\"/Users/aontiveros/Others/CECS590\")"
   ]
  },
  {
   "cell_type": "markdown",
   "metadata": {},
   "source": [
    "# Functions"
   ]
  },
  {
   "cell_type": "code",
   "execution_count": 2,
   "metadata": {},
   "outputs": [],
   "source": [
    "def csv2df(fname, sep='\\t', na_values=np.nan):\n",
    "    data = pd.read_csv(fname, sep=sep, na_values=na_values)\n",
    "    return data\n",
    "\n",
    "# For cleaning the text\n",
    "stop_words = set(stopwords.words(\"english\")) \n",
    "lemmatizer = WordNetLemmatizer()\n",
    "\n",
    "def remove_punctuation(from_text):\n",
    "    table = str.maketrans('', '', string.punctuation)\n",
    "    stripped = [w.translate(table) for w in from_text]\n",
    "    return stripped\n",
    "\n",
    "def remove_digits(list): \n",
    "    pattern = '[0-9]'\n",
    "    list = [re.sub(pattern, '', i) for i in list]\n",
    "    return list\n",
    "\n",
    "def clean_text(text):\n",
    "    text = re.sub(r'[^\\w\\s]','',text, re.UNICODE)\n",
    "    text = text.lower()\n",
    "    text = [lemmatizer.lemmatize(token) for token in text.split(\" \")]\n",
    "    text = remove_punctuation(text)\n",
    "    text = [lemmatizer.lemmatize(token, \"v\") for token in text]\n",
    "    text = [word for word in text if not word in stop_words]\n",
    "    text = remove_digits(text)\n",
    "    text = \" \".join(text)\n",
    "    return text"
   ]
  },
  {
   "cell_type": "markdown",
   "metadata": {},
   "source": [
    "# Preprocessing"
   ]
  },
  {
   "cell_type": "code",
   "execution_count": 3,
   "metadata": {},
   "outputs": [
    {
     "data": {
      "text/html": [
       "<div>\n",
       "<style scoped>\n",
       "    .dataframe tbody tr th:only-of-type {\n",
       "        vertical-align: middle;\n",
       "    }\n",
       "\n",
       "    .dataframe tbody tr th {\n",
       "        vertical-align: top;\n",
       "    }\n",
       "\n",
       "    .dataframe thead th {\n",
       "        text-align: right;\n",
       "    }\n",
       "</style>\n",
       "<table border=\"1\" class=\"dataframe\">\n",
       "  <thead>\n",
       "    <tr style=\"text-align: right;\">\n",
       "      <th></th>\n",
       "      <th>Unnamed: 0</th>\n",
       "      <th>overall</th>\n",
       "      <th>reviewText</th>\n",
       "      <th>languages</th>\n",
       "      <th>counting</th>\n",
       "    </tr>\n",
       "  </thead>\n",
       "  <tbody>\n",
       "    <tr>\n",
       "      <td>0</td>\n",
       "      <td>562081</td>\n",
       "      <td>1</td>\n",
       "      <td>As a freelancer, I have used Fiverr many times...</td>\n",
       "      <td>English</td>\n",
       "      <td>1</td>\n",
       "    </tr>\n",
       "    <tr>\n",
       "      <td>1</td>\n",
       "      <td>731922</td>\n",
       "      <td>1</td>\n",
       "      <td>love  love this serie</td>\n",
       "      <td>English</td>\n",
       "      <td>1</td>\n",
       "    </tr>\n",
       "    <tr>\n",
       "      <td>2</td>\n",
       "      <td>309008</td>\n",
       "      <td>1</td>\n",
       "      <td>saying that I loved reading this story about a...</td>\n",
       "      <td>English</td>\n",
       "      <td>1</td>\n",
       "    </tr>\n",
       "    <tr>\n",
       "      <td>3</td>\n",
       "      <td>1145290</td>\n",
       "      <td>1</td>\n",
       "      <td>Couldn't stop reading! Loved it! Can't wait to...</td>\n",
       "      <td>English</td>\n",
       "      <td>1</td>\n",
       "    </tr>\n",
       "    <tr>\n",
       "      <td>4</td>\n",
       "      <td>692769</td>\n",
       "      <td>1</td>\n",
       "      <td>The best one way better then the second book.</td>\n",
       "      <td>English</td>\n",
       "      <td>1</td>\n",
       "    </tr>\n",
       "  </tbody>\n",
       "</table>\n",
       "</div>"
      ],
      "text/plain": [
       "   Unnamed: 0  overall                                         reviewText  \\\n",
       "0      562081        1  As a freelancer, I have used Fiverr many times...   \n",
       "1      731922        1                              love  love this serie   \n",
       "2      309008        1  saying that I loved reading this story about a...   \n",
       "3     1145290        1  Couldn't stop reading! Loved it! Can't wait to...   \n",
       "4      692769        1      The best one way better then the second book.   \n",
       "\n",
       "  languages  counting  \n",
       "0   English         1  \n",
       "1   English         1  \n",
       "2   English         1  \n",
       "3   English         1  \n",
       "4   English         1  "
      ]
     },
     "execution_count": 3,
     "metadata": {},
     "output_type": "execute_result"
    }
   ],
   "source": [
    "# Uploading file with reviws only in English\n",
    "df = csv2df('kindle_store_english')\n",
    "df.head()"
   ]
  },
  {
   "cell_type": "code",
   "execution_count": 4,
   "metadata": {},
   "outputs": [
    {
     "data": {
      "text/html": [
       "<div>\n",
       "<style scoped>\n",
       "    .dataframe tbody tr th:only-of-type {\n",
       "        vertical-align: middle;\n",
       "    }\n",
       "\n",
       "    .dataframe tbody tr th {\n",
       "        vertical-align: top;\n",
       "    }\n",
       "\n",
       "    .dataframe thead th {\n",
       "        text-align: right;\n",
       "    }\n",
       "</style>\n",
       "<table border=\"1\" class=\"dataframe\">\n",
       "  <thead>\n",
       "    <tr style=\"text-align: right;\">\n",
       "      <th></th>\n",
       "      <th>polarity</th>\n",
       "      <th>review</th>\n",
       "    </tr>\n",
       "  </thead>\n",
       "  <tbody>\n",
       "    <tr>\n",
       "      <td>0</td>\n",
       "      <td>1</td>\n",
       "      <td>As a freelancer, I have used Fiverr many times...</td>\n",
       "    </tr>\n",
       "    <tr>\n",
       "      <td>1</td>\n",
       "      <td>1</td>\n",
       "      <td>love  love this serie</td>\n",
       "    </tr>\n",
       "    <tr>\n",
       "      <td>2</td>\n",
       "      <td>1</td>\n",
       "      <td>saying that I loved reading this story about a...</td>\n",
       "    </tr>\n",
       "    <tr>\n",
       "      <td>3</td>\n",
       "      <td>1</td>\n",
       "      <td>Couldn't stop reading! Loved it! Can't wait to...</td>\n",
       "    </tr>\n",
       "    <tr>\n",
       "      <td>4</td>\n",
       "      <td>1</td>\n",
       "      <td>The best one way better then the second book.</td>\n",
       "    </tr>\n",
       "  </tbody>\n",
       "</table>\n",
       "</div>"
      ],
      "text/plain": [
       "   polarity                                             review\n",
       "0         1  As a freelancer, I have used Fiverr many times...\n",
       "1         1                              love  love this serie\n",
       "2         1  saying that I loved reading this story about a...\n",
       "3         1  Couldn't stop reading! Loved it! Can't wait to...\n",
       "4         1      The best one way better then the second book."
      ]
     },
     "execution_count": 4,
     "metadata": {},
     "output_type": "execute_result"
    }
   ],
   "source": [
    "# Droping languages column\n",
    "df = df.drop(columns=['languages', 'counting', 'Unnamed: 0'])\n",
    "\n",
    "# Renaming columns\n",
    "df.rename(columns = {'overall':'polarity', 'reviewText':'review'}, inplace = True) \n",
    "df.head()"
   ]
  },
  {
   "cell_type": "code",
   "execution_count": 5,
   "metadata": {},
   "outputs": [
    {
     "data": {
      "text/plain": [
       "29"
      ]
     },
     "execution_count": 5,
     "metadata": {},
     "output_type": "execute_result"
    }
   ],
   "source": [
    "y = df['polarity']\n",
    "X = df['review']\n",
    "\n",
    "# Randomly spliting the DF. Training 90% and testing 10%. Stratified on y.\n",
    "X_train_pre, X_test, y_train_pre, y_test = train_test_split(X, y, test_size=0.1, random_state=1, stratify=y)\n",
    "# Randomly spliting the train_pre. Training 90% and validation 10%. Stratified on y. \n",
    "X_train, X_validation, y_train, y_validation = train_test_split(X_train_pre, y_train_pre, test_size=0.1, \n",
    "                                                                random_state=1, stratify=y_train_pre)\n",
    "\n",
    "# Sending them to a DF\n",
    "X_train = pd.Series(X_train, name=\"review\")\n",
    "X_train = X_train.to_frame()\n",
    "X_test = pd.Series(X_test, name=\"review\")\n",
    "X_test = X_test.to_frame()\n",
    "X_validation = pd.Series(X_validation, name=\"review\")\n",
    "X_validation = X_validation.to_frame()\n",
    "y_validation = y_validation.to_frame()\n",
    "\n",
    "del X, y, df, X_train_pre, y_train_pre\n",
    "gc.collect()"
   ]
  },
  {
   "cell_type": "code",
   "execution_count": 6,
   "metadata": {},
   "outputs": [],
   "source": [
    "# Cleaning the text separately\n",
    "X_train['Processed_Reviews'] = X_train.review.apply(lambda x: clean_text(x))\n",
    "X_test['Processed_Reviews'] = X_test.review.apply(lambda x: clean_text(x))\n",
    "X_validation['Processed_Reviews'] = X_validation.review.apply(lambda x: clean_text(x))\n",
    "\n",
    "# Removing word 'book'\n",
    "remove_words = ['book']\n",
    "removing = r'\\b(?:{})\\b'.format('|'.join(remove_words))\n",
    "X_train['Processed_Reviews'] = X_train['Processed_Reviews'].str.replace(removing, '')\n",
    "X_test['Processed_Reviews'] = X_test['Processed_Reviews'].str.replace(removing, '')\n",
    "X_validation['Processed_Reviews'] = X_validation['Processed_Reviews'].str.replace(removing, '')"
   ]
  },
  {
   "cell_type": "code",
   "execution_count": 10,
   "metadata": {},
   "outputs": [],
   "source": [
    "X_train['polarity'] = y_train\n",
    "\n",
    "df_positive = X_train[X_train.polarity==1]\n",
    "df_negative = X_train[X_train.polarity==0]"
   ]
  },
  {
   "cell_type": "code",
   "execution_count": 11,
   "metadata": {},
   "outputs": [
    {
     "data": {
      "text/plain": [
       "<matplotlib.axes._subplots.AxesSubplot at 0x150cf4320>"
      ]
     },
     "execution_count": 11,
     "metadata": {},
     "output_type": "execute_result"
    },
    {
     "data": {
      "image/png": "[encoded data removed]",
      "text/plain": [
       "<Figure size 432x288 with 1 Axes>"
      ]
     },
     "metadata": {
      "needs_background": "light"
     },
     "output_type": "display_data"
    }
   ],
   "source": [
    "# Most frequent words from positive reviews\n",
    "wordcount = {}\n",
    "\n",
    "for val in df_positive.Processed_Reviews: \n",
    "    val = str(val)\n",
    "    tokens = val.split() \n",
    "    for words in tokens:   \n",
    "        if words not in wordcount:\n",
    "            wordcount[words] = 1\n",
    "        else:\n",
    "            wordcount[words] += 1\n",
    "\n",
    "word_counter = collections.Counter(wordcount)\n",
    "lst = word_counter.most_common(20)\n",
    "dfp = pd.DataFrame(lst, columns = ['Word', 'Count'])\n",
    "dfp.plot.barh(x='Word',y='Count')"
   ]
  },
  {
   "cell_type": "code",
   "execution_count": 12,
   "metadata": {},
   "outputs": [
    {
     "data": {
      "text/plain": [
       "<matplotlib.axes._subplots.AxesSubplot at 0x151798dd8>"
      ]
     },
     "execution_count": 12,
     "metadata": {},
     "output_type": "execute_result"
    },
    {
     "data": {
      "image/png": "[encoded data removed]",
      "text/plain": [
       "<Figure size 432x288 with 1 Axes>"
      ]
     },
     "metadata": {
      "needs_background": "light"
     },
     "output_type": "display_data"
    }
   ],
   "source": [
    "# Most frequent words from negative reviews\n",
    "wordcount2 = {}\n",
    "\n",
    "for val2 in df_negative.Processed_Reviews: \n",
    "    val2 = str(val2)\n",
    "    tokens2 = val2.split() \n",
    "    for words2 in tokens2:   \n",
    "        if words2 not in wordcount2:\n",
    "            wordcount2[words2] = 1\n",
    "        else:\n",
    "            wordcount2[words2] += 1\n",
    "\n",
    "word_counter2 = collections.Counter(wordcount2)\n",
    "lst2 = word_counter2.most_common(20)\n",
    "dfn = pd.DataFrame(lst2, columns = ['Word', 'Count'])\n",
    "dfn.plot.barh(x='Word',y='Count')"
   ]
  },
  {
   "cell_type": "code",
   "execution_count": 13,
   "metadata": {},
   "outputs": [
    {
     "name": "stdout",
     "output_type": "stream",
     "text": [
      "Average lenght of reviews for training df:  45.939585792467\n",
      "Average lenght of reviews for testing df:  46.17170753679636\n",
      "Average lenght of reviews for validation df:  47.2078216287111\n",
      "Max lenght for sentences:  45\n"
     ]
    }
   ],
   "source": [
    "print('Average lenght of reviews for training df: ', \n",
    "      X_test.Processed_Reviews.apply(lambda x: len(x.split(\" \"))).mean())\n",
    "print('Average lenght of reviews for testing df: ', \n",
    "      X_train.Processed_Reviews.apply(lambda x: len(x.split(\" \"))).mean())\n",
    "print('Average lenght of reviews for validation df: ', \n",
    "      X_validation.Processed_Reviews.apply(lambda x: len(x.split(\" \"))).mean())\n",
    "\n",
    "maxlen = int(X_test.Processed_Reviews.apply(lambda x: len(x.split(\" \"))).mean()) # Taken from mean lenght of reviews\n",
    "print('Max lenght for sentences: ', maxlen) "
   ]
  },
  {
   "cell_type": "code",
   "execution_count": 14,
   "metadata": {},
   "outputs": [
    {
     "name": "stdout",
     "output_type": "stream",
     "text": [
      "Number of samples in X_train df:  75483\n",
      "Number of samples in X_test df:  9319\n",
      "Number of samples in X_validation df:  8387\n"
     ]
    }
   ],
   "source": [
    "print('Number of samples in X_train df: ', X_train['Processed_Reviews'].count())\n",
    "print('Number of samples in X_test df: ', X_test['Processed_Reviews'].count())\n",
    "print('Number of samples in X_validation df: ', X_validation['Processed_Reviews'].count())\n",
    "\n",
    "# Setting y for all the datasets\n",
    "X_train['polarity'] = y_train\n",
    "X_test['polarity'] = y_test\n",
    "X_validation['polarity'] = y_validation"
   ]
  },
  {
   "cell_type": "code",
   "execution_count": 15,
   "metadata": {},
   "outputs": [],
   "source": [
    "max_features = 2000 # Max number of features in sample / max number of words\n",
    "# Tokenizing \n",
    "tokenizer = Tokenizer(num_words=max_features)\n",
    "tokenizer.fit_on_texts(X_train['Processed_Reviews'])\n",
    "list_tokenized_train = tokenizer.texts_to_sequences(X_train['Processed_Reviews'])\n",
    "list_tokenized_validation = tokenizer.texts_to_sequences(X_validation['Processed_Reviews'])\n",
    "list_tokenized_test = tokenizer.texts_to_sequences(X_test['Processed_Reviews'])\n",
    "\n",
    "X_tr = pad_sequences(list_tokenized_train, maxlen=maxlen)\n",
    "y_tr = X_train['polarity']\n",
    "X_te = pad_sequences(list_tokenized_test, maxlen=maxlen)\n",
    "y_te = X_test['polarity']\n",
    "X_va = pad_sequences(list_tokenized_validation, maxlen=maxlen)\n",
    "y_va = X_validation['polarity']"
   ]
  },
  {
   "cell_type": "code",
   "execution_count": 16,
   "metadata": {},
   "outputs": [
    {
     "name": "stdout",
     "output_type": "stream",
     "text": [
      "Train on 75483 samples\n",
      "Epoch 1/5\n",
      "75483/75483 [==============================] - 158s 2ms/sample - loss: 0.2237 - accuracy: 0.9120\n",
      "Epoch 2/5\n",
      "75483/75483 [==============================] - 154s 2ms/sample - loss: 0.1711 - accuracy: 0.9347\n",
      "Epoch 3/5\n",
      "75483/75483 [==============================] - 154s 2ms/sample - loss: 0.1520 - accuracy: 0.9425\n",
      "Epoch 4/5\n",
      "75483/75483 [==============================] - 154s 2ms/sample - loss: 0.1364 - accuracy: 0.9496\n",
      "Epoch 5/5\n",
      "75483/75483 [==============================] - 154s 2ms/sample - loss: 0.1240 - accuracy: 0.9544\n",
      "Number of hidden nodes used:  8\n",
      "The best score obtained with GridSearchCV, was:  0.9295867880185446\n",
      "The best parameters obtained with GridSearchCV, were:  {'batch_size': 8, 'dropout_rate': 0.02, 'epochs': 5}\n",
      "Train on 75483 samples\n",
      "Epoch 1/5\n",
      "75483/75483 [==============================] - 171s 2ms/sample - loss: 0.2169 - accuracy: 0.9134\n",
      "Epoch 2/5\n",
      "75483/75483 [==============================] - 170s 2ms/sample - loss: 0.1654 - accuracy: 0.9369\n",
      "Epoch 3/5\n",
      "75483/75483 [==============================] - 170s 2ms/sample - loss: 0.1452 - accuracy: 0.9459\n",
      "Epoch 4/5\n",
      "75483/75483 [==============================] - 170s 2ms/sample - loss: 0.1294 - accuracy: 0.9528\n",
      "Epoch 5/5\n",
      "75483/75483 [==============================] - 170s 2ms/sample - loss: 0.1161 - accuracy: 0.9579\n",
      "Number of hidden nodes used:  18\n",
      "The best score obtained with GridSearchCV, was:  0.9301697214444479\n",
      "The best parameters obtained with GridSearchCV, were:  {'batch_size': 8, 'dropout_rate': 0.02, 'epochs': 5}\n",
      "Train on 75483 samples\n",
      "Epoch 1/3\n",
      "75483/75483 [==============================] - 174s 2ms/sample - loss: 0.2165 - accuracy: 0.9136\n",
      "Epoch 2/3\n",
      "75483/75483 [==============================] - 173s 2ms/sample - loss: 0.1651 - accuracy: 0.9369\n",
      "Epoch 3/3\n",
      "75483/75483 [==============================] - 172s 2ms/sample - loss: 0.1443 - accuracy: 0.9462\n",
      "Number of hidden nodes used:  32\n",
      "The best score obtained with GridSearchCV, was:  0.9316004713376363\n",
      "The best parameters obtained with GridSearchCV, were:  {'batch_size': 8, 'dropout_rate': 0.02, 'epochs': 3}\n"
     ]
    }
   ],
   "source": [
    "# Function to create model, required for KerasClassifier\n",
    "embed_size = maxlen #Dimension of the dense embedding. Set as max lengh of a sentence/review.\n",
    "hidden_nodes = [8, 18, 32] # For the LSTM, to try in the for loop. \n",
    "# define the grid search parameters\n",
    "dropout_rate = [0.02, 0.05]\n",
    "n_epochs = [3, 5]\n",
    "n_batch = [8, 16] #4,8,16,32,64,128,256 (powers of 2) can be tried, this dependens on CPU/GPU memory capacity\n",
    "\n",
    "for hn in hidden_nodes:\n",
    "    def create_model(dropout_rate=0.0, no_nodes=0):\n",
    "        # create model\n",
    "        model = Sequential()\n",
    "        model.add(Embedding(max_features, embed_size))\n",
    "        model.add(Bidirectional(LSTM(hn, return_sequences = True)))\n",
    "        model.add(GlobalMaxPool1D())\n",
    "        model.add(Dropout(dropout_rate))\n",
    "        model.add(Dense(1, activation=\"sigmoid\"))\n",
    "        # Compile model\n",
    "        model.compile(loss='binary_crossentropy', optimizer='adam', metrics=['accuracy'])\n",
    "        return model\n",
    "    # create model\n",
    "    model = KerasClassifier(build_fn=create_model)\n",
    "    param_grid = dict(dropout_rate=dropout_rate, epochs=n_epochs, batch_size=n_batch)\n",
    "    grid = GridSearchCV(estimator=model, param_grid=param_grid, n_jobs=-1, cv=3)\n",
    "    grid_result = grid.fit(X_tr, y_tr)\n",
    "    print('Number of hidden nodes used: ', hn)\n",
    "    print('The best score obtained with GridSearchCV, was: ', grid_result.best_score_)\n",
    "    print('The best parameters obtained with GridSearchCV, were: ', grid_result.best_params_)   "
   ]
  },
  {
   "cell_type": "code",
   "execution_count": 17,
   "metadata": {},
   "outputs": [],
   "source": [
    "# Best parameters\n",
    "bs = 8# batch_size\n",
    "e = 3# epochs\n",
    "hn = 32# hidden nodes\n",
    "dr = 0.02# dropout rate\n",
    "\n",
    "model_final = Sequential()\n",
    "model_final.add(Embedding(max_features, embed_size))\n",
    "model_final.add(Bidirectional(LSTM (hn, return_sequences = True)))\n",
    "model_final.add(GlobalMaxPool1D())\n",
    "model_final.add(Dropout(dr))\n",
    "model_final.add(Dense(1, activation=\"sigmoid\"))\n",
    "model_final.compile(loss='binary_crossentropy', optimizer='adam', metrics=['accuracy'])"
   ]
  },
  {
   "cell_type": "code",
   "execution_count": 18,
   "metadata": {},
   "outputs": [
    {
     "name": "stdout",
     "output_type": "stream",
     "text": [
      "Train on 75483 samples, validate on 8387 samples\n",
      "Epoch 1/3\n",
      "75483/75483 [==============================] - 174s 2ms/sample - loss: 0.2124 - accuracy: 0.9171 - val_loss: 0.1834 - val_accuracy: 0.9282\n",
      "Epoch 2/3\n",
      "75483/75483 [==============================] - 184s 2ms/sample - loss: 0.1651 - accuracy: 0.9372 - val_loss: 0.1706 - val_accuracy: 0.9319\n",
      "Epoch 3/3\n",
      "75483/75483 [==============================] - 179s 2ms/sample - loss: 0.1445 - accuracy: 0.9463 - val_loss: 0.1666 - val_accuracy: 0.9339\n"
     ]
    }
   ],
   "source": [
    "# Fiting the model with training and validating\n",
    "history = model_final.fit(X_tr, y_tr, epochs=e, batch_size=bs, validation_data=(X_va, y_va))"
   ]
  },
  {
   "cell_type": "code",
   "execution_count": 19,
   "metadata": {},
   "outputs": [
    {
     "data": {
      "image/png": "[encoded data removed]",
      "text/plain": [
       "<Figure size 432x288 with 1 Axes>"
      ]
     },
     "metadata": {
      "needs_background": "light"
     },
     "output_type": "display_data"
    },
    {
     "data": {
      "image/png": "[encoded data removed]",
      "text/plain": [
       "<Figure size 432x288 with 1 Axes>"
      ]
     },
     "metadata": {
      "needs_background": "light"
     },
     "output_type": "display_data"
    }
   ],
   "source": [
    "# Plots of results\n",
    "acc = history.history['accuracy']\n",
    "val_acc = history.history['val_accuracy']\n",
    "loss = history.history['loss']\n",
    "val_loss = history.history['val_loss']\n",
    "epochs = range(1, len(acc) + 1)\n",
    "plt.plot(epochs, acc, 'bo', label='Training acc')\n",
    "plt.plot(epochs, val_acc, 'b', label='Validation acc')\n",
    "plt.title('Training and validation accuracy')\n",
    "plt.legend()\n",
    "plt.figure()\n",
    "plt.plot(epochs, loss, 'bo', label='Training loss')\n",
    "plt.plot(epochs, val_loss, 'b', label='Validation loss')\n",
    "plt.title('Training and validation loss')\n",
    "plt.legend()\n",
    "plt.show()"
   ]
  },
  {
   "cell_type": "code",
   "execution_count": 20,
   "metadata": {},
   "outputs": [
    {
     "name": "stdout",
     "output_type": "stream",
     "text": [
      "F1-score: 0.940187313750532\n",
      "Confusion matrix:\n"
     ]
    },
    {
     "data": {
      "text/plain": [
       "array([[4340,  265],\n",
       "       [ 297, 4417]])"
      ]
     },
     "execution_count": 20,
     "metadata": {},
     "output_type": "execute_result"
    }
   ],
   "source": [
    "# Tokenizing test dataset\n",
    "#list_tokenized_test = tokenizer.texts_to_sequences(X_test['Processed_Reviews'])\n",
    "\n",
    "#maxlen = 50 # Taken from mean lenght of reviews. Rounded. \n",
    "#X_te = pad_sequences(list_tokenized_test, maxlen=maxlen)\n",
    "\n",
    "prediction = model_final.predict(X_te)\n",
    "y_pred = (prediction > 0.5)\n",
    "\n",
    "print('F1-score: {0}'.format(f1_score(y_pred, y_te)))\n",
    "print('Confusion matrix:')\n",
    "confusion_matrix(y_pred, y_te)"
   ]
  },
  {
   "cell_type": "code",
   "execution_count": 21,
   "metadata": {},
   "outputs": [
    {
     "name": "stdout",
     "output_type": "stream",
     "text": [
      "              precision    recall  f1-score   support\n",
      "\n",
      "     class 0       0.94      0.94      0.94      4637\n",
      "     class 1       0.94      0.94      0.94      4682\n",
      "\n",
      "    accuracy                           0.94      9319\n",
      "   macro avg       0.94      0.94      0.94      9319\n",
      "weighted avg       0.94      0.94      0.94      9319\n",
      "\n"
     ]
    }
   ],
   "source": [
    "target_names = ['class 0', 'class 1']\n",
    "print(classification_report(y_test, y_pred, target_names=target_names))"
   ]
  },
  {
   "cell_type": "code",
   "execution_count": 22,
   "metadata": {},
   "outputs": [
    {
     "data": {
      "text/plain": [
       "1    4682\n",
       "0    4637\n",
       "Name: polarity, dtype: int64"
      ]
     },
     "execution_count": 22,
     "metadata": {},
     "output_type": "execute_result"
    }
   ],
   "source": [
    "y_te.value_counts()"
   ]
  },
  {
   "cell_type": "code",
   "execution_count": null,
   "metadata": {},
   "outputs": [],
   "source": []
  }
 ],
 "metadata": {
  "kernelspec": {
   "display_name": "Python 3",
   "language": "python",
   "name": "python3"
  },
  "language_info": {
   "codemirror_mode": {
    "name": "ipython",
    "version": 3
   },
   "file_extension": ".py",
   "mimetype": "text/x-python",
   "name": "python",
   "nbconvert_exporter": "python",
   "pygments_lexer": "ipython3",
   "version": "3.7.3"
  }
 },
 "nbformat": 4,
 "nbformat_minor": 2
}
